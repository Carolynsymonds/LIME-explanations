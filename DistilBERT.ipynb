{
 "cells": [
  {
   "cell_type": "code",
   "execution_count": null,
   "metadata": {
    "colab": {
     "base_uri": "https://localhost:8080/"
    },
    "id": "S3A_ul3m0-ed",
    "outputId": "ef75c3f8-346f-48d6-b55b-646bb9ba2a35"
   },
   "outputs": [],
   "source": [
    "!pip install lime transformers\n"
   ]
  },
  {
   "cell_type": "code",
   "execution_count": null,
   "metadata": {
    "id": "2l971TjJ1BDl"
   },
   "outputs": [],
   "source": [
    "import lime\n",
    "from lime.lime_text import LimeTextExplainer\n",
    "from transformers import pipeline\n",
    "import numpy as np\n",
    "import pandas as pd\n"
   ]
  },
  {
   "cell_type": "code",
   "execution_count": null,
   "metadata": {
    "colab": {
     "base_uri": "https://localhost:8080/",
     "height": 361,
     "referenced_widgets": [
      "bdffc5e3ff5444ffa1ea71fdd095897b",
      "396139c15d254fc4ae549bc823a979f4",
      "0628589ff3ed4b35b83943d696947835",
      "7b8f56faa7e94c8b91d8716095a3520f",
      "81c5279f2f0b47288e87236bf35361d0",
      "c561c81229924674b6684b1ee53e27f9",
      "60d1244412fc485f9a3e258826bc2129",
      "1189e6701f0f457abefe09c8fdfcd462",
      "675454ebe2ae414ebacda7ae70723d0b",
      "47d2e31fe9cc4023a5a676d464bd5de1",
      "05713a1bde174b7084ed117eb6fbe5e5",
      "615d1f60d3a048f6857e5bfa19012e6f",
      "fc471253ec3743fa849d21c72fac34f5",
      "53bc6fd85e4c4363a1c98c8a36fa3904",
      "8fe89d1757ce46d2b3c3575d55b10673",
      "52929dd5706d4da2a7e2e50923821ea4",
      "41e080dd7e4e4070bb7cce6a3d48db21",
      "c41550cbdeba4797b866ef038089e1b5",
      "b749f71961e64432a6a159da580fe3ea",
      "7f4e573df2d141b7a354dbb0a0f7d737",
      "178525e616d64f959b747255ac3fdd3a",
      "5c143e7bf433409a903cc8dcee02914d",
      "55f73df509bc4f9bb536db831e932570",
      "720e0cc7f52849e29c0f15d834d9d9a3",
      "71847b1b47ea4483a604228ce265469c",
      "1313fe242d05408284277f4bd42396db",
      "7559e02c3804431b8d8bc1167c2df6ea",
      "174d433cd4814b428ca448b8c6e5a57d",
      "28f16cfcc8f945d791802e029d26e4cb",
      "78e9382260844d17b5840f41ab6f1ffd",
      "17bfc40b3bc54e4c95a5dd4c18b57a6e",
      "4a072d6cf9ec493798e511cd205728ed",
      "d730f687e6f142cda81cccfba9966f2a",
      "769676a584d44d0d8ff92523996a6524",
      "d8c3b357f075489f90cd10263665b33b",
      "ae24625f56c4420da4d8510230f9d39e",
      "5d8381ef6df64034a8594e81af6de7ed",
      "fdbb7f298ed541aeab141c1c17780686",
      "48c2e777d26f40ec8ca4472dbf31de73",
      "67f83d08f3f84bb58c94618521335efd",
      "4116b9479fcb4f4998b41236418539ce",
      "1bc09541fc93412b8e01d7b584efd0aa",
      "c42dded171f64f678d1a3f79c9ae0f47",
      "80921b9a3f8a4e24befcfa208a4b5beb"
     ]
    },
    "id": "Ux_2Kts11DPS",
    "outputId": "265008f0-91a5-4d70-fbbd-12f9dee4a12e"
   },
   "outputs": [],
   "source": [
    "\n",
    "classifier = pipeline(\"text-classification\", model=\"distilbert-base-uncased-finetuned-sst-2-english\")\n",
    "\n",
    "def predict_proba(texts):\n",
    "    results = classifier(texts, return_all_scores=True)\n",
    "    return np.array([[r[0]['score'], r[1]['score']] for r in results])\n",
    "text = \"I am not sure if I liked or hated the movie, the beginning was boring, the end was fun.\"\n",
    "explainer = LimeTextExplainer(class_names=[\"negative\", \"positive\"])\n",
    "exp = explainer.explain_instance(text, predict_proba, num_features=6)"
   ]
  },
  {
   "cell_type": "code",
   "execution_count": null,
   "metadata": {
    "colab": {
     "base_uri": "https://localhost:8080/",
     "height": 215
    },
    "id": "cCV-MBPR1GpA",
    "outputId": "05c326ee-6793-42cc-f380-27aa9e98a3c9"
   },
   "outputs": [],
   "source": [
    "exp.show_in_notebook(text=text)\n"
   ]
  },
  {
   "cell_type": "code",
   "execution_count": null,
   "metadata": {
    "colab": {
     "base_uri": "https://localhost:8080/",
     "height": 452
    },
    "id": "me0HEgz21Gim",
    "outputId": "df704985-3e6d-4f3e-d274-561d3b9ac8e5"
   },
   "outputs": [],
   "source": [
    "import matplotlib.pyplot as plt\n",
    "\n",
    "fig = exp.as_pyplot_figure(label=1)\n",
    "\n",
    "plt.show()"
   ]
  },
  {
   "cell_type": "code",
   "execution_count": null,
   "metadata": {
    "colab": {
     "base_uri": "https://localhost:8080/",
     "height": 238
    },
    "id": "RVHix7_-1KZ1",
    "outputId": "50466646-535b-4169-e538-fd111d3857d6"
   },
   "outputs": [],
   "source": [
    "import pandas as pd\n",
    "df = pd.DataFrame(exp.as_list(), columns=['Feature', 'Contribution'])\n",
    "display(df)"
   ]
  }
 ],
 "metadata": {
  "colab": {
   "provenance": []
  },
  "kernelspec": {
   "display_name": "Python 3",
   "name": "python3"
  },
  "language_info": {
   "name": "python"
  }
 },
 "nbformat": 4,
 "nbformat_minor": 0
}
